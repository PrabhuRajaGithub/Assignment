{
 "cells": [
  {
   "cell_type": "markdown",
   "id": "ea16f3ba-fb03-4502-8ea5-a48c983b7f6e",
   "metadata": {},
   "source": [
    "Assignment_1\n",
    "--"
   ]
  },
  {
   "cell_type": "raw",
   "id": "bd680f64-439c-4e43-b7d0-8f5e3fc80153",
   "metadata": {},
   "source": [
    "1. In the below elements which of them are values or an expression? eg:- values can be integer or string and expressions will be mathematical operators.\n",
    "Solution:\n",
    "*          - Expression\n",
    "'hello'    - Values\n",
    "-87.8      - Values   \n",
    "-          - Expression\n",
    "/          - Expression  \n",
    "+\t       - Expression  \n",
    "6          - Values"
   ]
  },
  {
   "cell_type": "raw",
   "id": "3e59107a-2e02-4f54-86d7-5ec551465010",
   "metadata": {},
   "source": [
    "2. What is the difference between string and variable?\n",
    "Solution:\n",
    "Variable is a store of information, and a string is a type of information you would store in a variable. String is usually words,enclosed with \"\"\n",
    "Eg:\n",
    "S = \"Welcome to INeuron\"\n",
    "S======================> VARIABLE\n",
    "\"Welcome to Ineuron\"===> STRING"
   ]
  },
  {
   "cell_type": "raw",
   "id": "075f23c8-f18a-4e59-81f3-9509f0e7249d",
   "metadata": {},
   "source": [
    "3. Describe three different data types.\n",
    "Solution:\n",
    "a: String\n",
    "b: Integer\n",
    "c: Float"
   ]
  },
  {
   "cell_type": "raw",
   "id": "f37270cc-82e9-4462-a44f-cf364907b58f",
   "metadata": {},
   "source": [
    "4. What is an expression made up of? What do all expressions do?\n",
    "Solution:\n",
    "Expression combines values, variables, operators and function to produce a result when evaluated. Expression can be simple, like a single value, or more complex with multiple values and operators.\n",
    "Expressions are versatile tool for calculations,decisions, data manipulations and interacting with functions and objects"
   ]
  },
  {
   "cell_type": "raw",
   "id": "a2fbafb4-a3ac-426a-8242-9e2b0517e3a0",
   "metadata": {},
   "source": [
    "5. This assignment statements, like spam = 10. What is the difference between an expression and a statement?\n",
    "Solution:\n",
    "Expressions are combinations of values, variables, operators and functions calls that produce a values. Statments are instructions that affect program state, control flow, or behavior.\n",
    "Expressions always have a value,while statments may or may not produce a value. for Eg: an assignment like 'Spam = 10' does not have a value, it assigns a value to a variable.\n",
    "in shoort, expressions evaluate to a value, while statments perform without necessarily producing a value."
   ]
  },
  {
   "cell_type": "raw",
   "id": "177d6f53-4e16-48b8-ac3d-7220f7bce9d2",
   "metadata": {},
   "source": [
    "6. After running the following code, what does the variable bacon contain?\n",
    "bacon = 22\n",
    "bacon + 1\n",
    "Solution:22"
   ]
  },
  {
   "cell_type": "code",
   "execution_count": 1,
   "id": "1d686059-d50a-4bb2-b495-197e43ccf978",
   "metadata": {},
   "outputs": [
    {
     "name": "stdout",
     "output_type": "stream",
     "text": [
      "22\n"
     ]
    }
   ],
   "source": [
    "#Solution\n",
    "bacon = 22\n",
    "bacon +1\n",
    "print(bacon)"
   ]
  },
  {
   "cell_type": "raw",
   "id": "878901c7-fa6d-46f3-ba69-7e619519e78e",
   "metadata": {},
   "source": [
    "7. What should the values of the following two terms be?\n",
    "'spam' + 'spamspam'\n",
    "'spam' * 3\n",
    "Solution:\n",
    "'spam' + 'spamspam' = spamspamspam\n",
    "'spam' * 3          = spamspamspam   "
   ]
  },
  {
   "cell_type": "code",
   "execution_count": 7,
   "id": "dd7ae9c3-a2d5-4e46-b58c-9886dc1c27c5",
   "metadata": {},
   "outputs": [
    {
     "name": "stdout",
     "output_type": "stream",
     "text": [
      "spamspamspam spamspamspam\n"
     ]
    }
   ],
   "source": [
    "a ='spam'+'spamspam'\n",
    "b = 'spam' * 3\n",
    "print(a,b)"
   ]
  },
  {
   "cell_type": "raw",
   "id": "c41aade8-6ec5-45b7-8655-03de28c71973",
   "metadata": {},
   "source": [
    "8. Why is eggs a valid variable name while 100 is invalid?\n",
    "Solution:\n",
    "Eggs is a valid variable name because it starts witha letter, followed by letters or digits. However 100 is invalid becasue it starts with a digit, violating the rule that variable names cannot start with a digit."
   ]
  },
  {
   "cell_type": "raw",
   "id": "0dce7347-0ab6-4cd3-89e2-438612d05689",
   "metadata": {},
   "source": [
    "9. What three functions can be used to get the integer, floating-point number, or string version of a value?\n",
    "Solution:\n",
    "a: Int()\n",
    "b: float()\n",
    "c: str()"
   ]
  },
  {
   "cell_type": "raw",
   "id": "79685c66-bb59-4f18-981e-82355ddf9f7b",
   "metadata": {},
   "source": [
    "10. Why does this expression cause an error? How can you fix it?\n",
    "'I have eaten ' + 99 + ' burritos.'\n",
    "Solution:\n",
    "We can only concatenate string to string or integer to integer, but not diff data types. In this case, we can typecast and obtain the result."
   ]
  },
  {
   "cell_type": "code",
   "execution_count": 9,
   "id": "ab7a3974-d79d-417d-9b7c-c413d07de06f",
   "metadata": {},
   "outputs": [
    {
     "ename": "TypeError",
     "evalue": "can only concatenate str (not \"int\") to str",
     "output_type": "error",
     "traceback": [
      "\u001b[0;31m---------------------------------------------------------------------------\u001b[0m",
      "\u001b[0;31mTypeError\u001b[0m                                 Traceback (most recent call last)",
      "Cell \u001b[0;32mIn [9], line 1\u001b[0m\n\u001b[0;32m----> 1\u001b[0m \u001b[38;5;124;43m'\u001b[39;49m\u001b[38;5;124;43mI have eaten \u001b[39;49m\u001b[38;5;124;43m'\u001b[39;49m\u001b[43m \u001b[49m\u001b[38;5;241;43m+\u001b[39;49m\u001b[43m \u001b[49m\u001b[38;5;241;43m99\u001b[39;49m \u001b[38;5;241m+\u001b[39m \u001b[38;5;124m'\u001b[39m\u001b[38;5;124m burritos.\u001b[39m\u001b[38;5;124m'\u001b[39m\n",
      "\u001b[0;31mTypeError\u001b[0m: can only concatenate str (not \"int\") to str"
     ]
    }
   ],
   "source": [
    "'I have eaten ' + 99 + ' burritos.'"
   ]
  },
  {
   "cell_type": "code",
   "execution_count": 10,
   "id": "0de8e3bd-6325-443e-9c54-89d36544ba95",
   "metadata": {},
   "outputs": [
    {
     "data": {
      "text/plain": [
       "'I have eaten 99 burritos.'"
      ]
     },
     "execution_count": 10,
     "metadata": {},
     "output_type": "execute_result"
    }
   ],
   "source": [
    "'I have eaten ' + str(99) + ' burritos.'"
   ]
  }
 ],
 "metadata": {
  "kernelspec": {
   "display_name": "Python 3 (ipykernel)",
   "language": "python",
   "name": "python3"
  },
  "language_info": {
   "codemirror_mode": {
    "name": "ipython",
    "version": 3
   },
   "file_extension": ".py",
   "mimetype": "text/x-python",
   "name": "python",
   "nbconvert_exporter": "python",
   "pygments_lexer": "ipython3",
   "version": "3.10.6"
  }
 },
 "nbformat": 4,
 "nbformat_minor": 5
}
