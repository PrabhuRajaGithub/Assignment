{
 "cells": [
  {
   "cell_type": "markdown",
   "id": "01560628-0e6e-4959-82d4-3a5c08b6aa72",
   "metadata": {},
   "source": [
    "Assignment 2\n",
    "---"
   ]
  },
  {
   "cell_type": "raw",
   "id": "918a3309-3d48-482e-a4db-37f2621b0380",
   "metadata": {},
   "source": [
    "1.What are the two values of the Boolean data type? How do you write them?\n",
    "Solution:\n",
    "We have two values of the Boolean data type:\n",
    "a. True\n",
    "b. False"
   ]
  },
  {
   "cell_type": "code",
   "execution_count": 4,
   "id": "fde8ec73-cbe5-4580-8cf1-25c0f2ed163a",
   "metadata": {},
   "outputs": [
    {
     "name": "stdout",
     "output_type": "stream",
     "text": [
      "True or False\n"
     ]
    }
   ],
   "source": [
    "a = True\n",
    "b = False\n",
    "print(a,\"or\",b)"
   ]
  },
  {
   "cell_type": "markdown",
   "id": "21f72c1d-939d-4b5f-88b3-845f7d4263c3",
   "metadata": {},
   "source": [
    "___"
   ]
  },
  {
   "cell_type": "raw",
   "id": "2e75eecf-78d3-4ae1-bec9-d402826dc5cf",
   "metadata": {},
   "source": [
    "2. What are the three different types of Boolean operators?\n",
    "Solution:\n",
    "Three different types of Boolean operators are:\n",
    "a. Logical And(&)- Returns \"True\" if both of the operands are true, else it will retun False. \n",
    "b. Logical or - Returns \"True\" if any one of the operands are true.\n",
    "c. Logical not (!) - It Negates the value of opernads, if the operand is True it returns False. if it is False it returns True"
   ]
  },
  {
   "cell_type": "markdown",
   "id": "73f0045f-2640-4242-9292-e09dbfd3a157",
   "metadata": {},
   "source": [
    "---"
   ]
  },
  {
   "cell_type": "raw",
   "id": "2dc5c97b-07d5-4917-8fa4-5615bacbb1bd",
   "metadata": {},
   "source": [
    "3. Make a list of each Boolean operator's truth tables (i.e. every possible combination of Boolean values for the operator and what it evaluate ).\n",
    "Solution:\n",
    "a. Logical And:\n",
    "True and True = True\n",
    "True and False = False\n",
    "False and True = False\n",
    "False and False = False\n",
    "___________________________________________________\n",
    "b. Logical Or:\n",
    "True or True = True\n",
    "True or False = True\n",
    "False or True = True\n",
    "False or False = False\n",
    "___________________________________________________\n",
    "C. Logical not(!)\n",
    "True! = False\n",
    "False!= True\n"
   ]
  },
  {
   "cell_type": "markdown",
   "id": "a57cf9ac-f819-43a8-bf1f-0ff90d45f68e",
   "metadata": {},
   "source": [
    "---"
   ]
  },
  {
   "cell_type": "raw",
   "id": "56804d9f-b747-469c-9ddb-3aecc51d6210",
   "metadata": {},
   "source": [
    "4. What are the values of the following expressions?"
   ]
  },
  {
   "cell_type": "code",
   "execution_count": 11,
   "id": "ee66691e-120a-489c-82b4-4cccb906af35",
   "metadata": {},
   "outputs": [
    {
     "name": "stdout",
     "output_type": "stream",
     "text": [
      "a: False b: False c: True d: False e: False f: True\n"
     ]
    }
   ],
   "source": [
    "#Solution:\n",
    "a=(5 > 4) and (3 == 5)\n",
    "b=not (5 > 4)\n",
    "c=(5 > 4) or (3 == 5)\n",
    "d=not ((5 > 4) or (3 == 5))\n",
    "e=(True and True) and (True == False)\n",
    "f=(not False) or (not True)\n",
    "print(\"a:\",a,\"b:\",b,\"c:\",c,\"d:\",d,\"e:\",e,\"f:\",f)"
   ]
  },
  {
   "cell_type": "markdown",
   "id": "fa71afac-4a65-4238-a203-2810d7c9eab0",
   "metadata": {},
   "source": [
    "----"
   ]
  },
  {
   "cell_type": "raw",
   "id": "cd6e8394-2856-4121-821a-b4b9847fa938",
   "metadata": {},
   "source": [
    "5. What are the six comparison operators?\n",
    "Solution: 6 comparsion operators are:\n",
    "==\n",
    "<=\n",
    ">=\n",
    "!=\n",
    "<\n",
    ">"
   ]
  },
  {
   "cell_type": "markdown",
   "id": "e77fd15b-2ac7-4b5b-82c0-19ff732092f7",
   "metadata": {},
   "source": [
    "----"
   ]
  },
  {
   "cell_type": "raw",
   "id": "ca8a5154-60c2-45bc-abd8-5df8766be15e",
   "metadata": {},
   "source": [
    "6. How do you tell the difference between the equal to and assignment operators?Describe a condition and when you would use one.\n",
    "Solution:\n",
    "Equal to operator and Assignment operator serve for differen purposes:\n",
    "a. Equal to(==): Equal to operators are used for comparsion. It checks whether two values are True or False and return a Boolean result based on comparsion.\n",
    "b. Assignment operator (=): It is used to assign value to the variable."
   ]
  },
  {
   "cell_type": "code",
   "execution_count": 14,
   "id": "06b311d0-fca0-46f4-ba5b-775fed0d60bd",
   "metadata": {},
   "outputs": [
    {
     "name": "stdout",
     "output_type": "stream",
     "text": [
      "a is not equal to b\n"
     ]
    },
    {
     "data": {
      "text/plain": [
       "'In the preceding case, we utilised both the \"Assignment\" and \"Equal to\" operators. First, we assigned values to variables a and b,\\nand then we used the Equal to operator to see if a==b.'"
      ]
     },
     "execution_count": 14,
     "metadata": {},
     "output_type": "execute_result"
    }
   ],
   "source": [
    "#a. Equal to(==)\n",
    "a =10\n",
    "b =20 \n",
    "if a == b:\n",
    "    print(\"a is equal to b\")\n",
    "else:\n",
    "    print(\"a is not equal to b\")\n",
    "    \n",
    "\"\"\"In the preceding case, we utilised both the \"Assignment\" and \"Equal to\" operators. First, we assigned values to variables a and b,\n",
    "and then we used the Equal to operator to see if a==b.\"\"\""
   ]
  },
  {
   "cell_type": "markdown",
   "id": "0058412a-4e4a-4691-bc7d-9d44b6cca774",
   "metadata": {},
   "source": [
    "---"
   ]
  },
  {
   "cell_type": "raw",
   "id": "e8f27a94-dfe0-458d-a6a3-812543acca1f",
   "metadata": {},
   "source": [
    "7. Identify the three blocks in this code:"
   ]
  },
  {
   "cell_type": "code",
   "execution_count": 16,
   "id": "e69dcaea-d0cf-44a9-bc0b-9f7133c756ee",
   "metadata": {},
   "outputs": [
    {
     "name": "stdout",
     "output_type": "stream",
     "text": [
      "ham\n",
      "spam\n",
      "spam\n"
     ]
    }
   ],
   "source": [
    "#Solution:\n",
    "spam = 0\n",
    "if spam == 10:\n",
    "    print('eggs')\n",
    "if spam > 5:\n",
    "    print('bacon')\n",
    "else:\n",
    "    print('ham')\n",
    "    print('spam')\n",
    "    print('spam')"
   ]
  },
  {
   "cell_type": "markdown",
   "id": "17f0cda3-1bf0-4579-9736-7b82ff08d41a",
   "metadata": {},
   "source": [
    "---"
   ]
  },
  {
   "cell_type": "raw",
   "id": "e1323b8c-df56-45ab-bc32-8cb93c0a4827",
   "metadata": {},
   "source": [
    "8. Write code that prints Hello if 1 is stored in spam, prints Howdy if 2 is stored in spam, and prints Greetings! if anything else is stored in spam."
   ]
  },
  {
   "cell_type": "code",
   "execution_count": 19,
   "id": "526aeb05-d54a-4cab-82d2-4e9497333c1a",
   "metadata": {},
   "outputs": [
    {
     "name": "stdin",
     "output_type": "stream",
     "text": [
      "Enter value: 3\n"
     ]
    },
    {
     "name": "stdout",
     "output_type": "stream",
     "text": [
      "Greetings!\n"
     ]
    }
   ],
   "source": [
    "#Solution:\n",
    "spam = int(input(\"Enter value:\"))\n",
    "\n",
    "if spam == 1:\n",
    "    print(\"Hello\")\n",
    "elif spam == 2:\n",
    "    print(\"Howdy\")\n",
    "else:\n",
    "    print(\"Greetings!\")"
   ]
  },
  {
   "cell_type": "markdown",
   "id": "00e7d168-d1c7-4581-838c-e4416f77725f",
   "metadata": {},
   "source": [
    "---"
   ]
  },
  {
   "cell_type": "raw",
   "id": "6890346d-8756-4107-8c99-b16fd5a11363",
   "metadata": {},
   "source": [
    "9.If your programme is stuck in an endless loop, what keys you’ll press?\n",
    "Solution: \n",
    "Step 1: Will Interrupt the Kernel (Ctrl+C).\n",
    "Step 2: Click the \"Kernel\" dropdown in the toolbar to \"Restart the Kernel\"."
   ]
  },
  {
   "cell_type": "markdown",
   "id": "7990b6d4-5d9a-4fa0-b49e-d8b909939897",
   "metadata": {},
   "source": [
    "---"
   ]
  },
  {
   "cell_type": "raw",
   "id": "b65baa7f-2c94-4b69-9be6-1df8be0e08a5",
   "metadata": {},
   "source": [
    "10. How can you tell the difference between break and continue?\n",
    "Solution:\n",
    "Break and continue are used in loops to change the execution flow:\n",
    "a. Break- When the \"Break\" statement is used in the loop, it immediately terminates the loop (in the example below, when \"I==5\", the loop is immediately terminated).\n",
    "b. Continue- The \"continue\" statement skips the remaining code for the current iteration of the loop and moves on to the next iteration. (In the example below, when \"I==5\", the condition is skipped and the iteration continues.)"
   ]
  },
  {
   "cell_type": "code",
   "execution_count": 32,
   "id": "6ba07678-b435-4b00-ba42-5f3341c9bf1e",
   "metadata": {},
   "outputs": [
    {
     "name": "stdout",
     "output_type": "stream",
     "text": [
      "1\n",
      "2\n",
      "3\n",
      "4\n"
     ]
    }
   ],
   "source": [
    "# Break\n",
    "for i in range(1,10):\n",
    "    if i == 5:\n",
    "        break\n",
    "    print (i)"
   ]
  },
  {
   "cell_type": "code",
   "execution_count": 33,
   "id": "b7553edc-d19f-4925-bd50-1926a0d1f0b7",
   "metadata": {},
   "outputs": [
    {
     "name": "stdout",
     "output_type": "stream",
     "text": [
      "1\n",
      "2\n",
      "3\n",
      "4\n",
      "6\n",
      "7\n",
      "8\n",
      "9\n"
     ]
    }
   ],
   "source": [
    "#Continue\n",
    "for i in range(1,10):\n",
    "    if i == 5:\n",
    "        continue\n",
    "    print(i)"
   ]
  },
  {
   "cell_type": "markdown",
   "id": "229910b8-5a19-4569-a459-d683dea16050",
   "metadata": {},
   "source": [
    "---"
   ]
  },
  {
   "cell_type": "raw",
   "id": "5662c8c5-1c6b-4762-ae6f-69a5ceec3aed",
   "metadata": {},
   "source": [
    "11. In a for loop, what is the difference between range(10), range(0, 10), and range(0, 10, 1)?\n",
    "Solution: The outcome would be the same in all scenarios; the code description following will help us to understand."
   ]
  },
  {
   "cell_type": "code",
   "execution_count": 36,
   "id": "88fbda50-c61b-4859-8a07-c75c2080b34f",
   "metadata": {},
   "outputs": [
    {
     "name": "stdout",
     "output_type": "stream",
     "text": [
      "0\n",
      "1\n",
      "2\n",
      "3\n",
      "4\n",
      "5\n",
      "6\n",
      "7\n",
      "8\n",
      "9\n"
     ]
    }
   ],
   "source": [
    "\n",
    "#a. Range(10)\n",
    "for i in range(10):\n",
    "    print(i)"
   ]
  },
  {
   "cell_type": "code",
   "execution_count": 38,
   "id": "fae3a645-a476-455c-871d-9f5ec60a0d32",
   "metadata": {},
   "outputs": [
    {
     "name": "stdout",
     "output_type": "stream",
     "text": [
      "0\n",
      "1\n",
      "2\n",
      "3\n",
      "4\n",
      "5\n",
      "6\n",
      "7\n",
      "8\n",
      "9\n"
     ]
    }
   ],
   "source": [
    "#b. Range(0,10)\n",
    "for i in range(0,10):\n",
    "    print(i)"
   ]
  },
  {
   "cell_type": "code",
   "execution_count": 39,
   "id": "82ddbf87-b206-43b5-a606-893d6bb363c1",
   "metadata": {},
   "outputs": [
    {
     "name": "stdout",
     "output_type": "stream",
     "text": [
      "0\n",
      "1\n",
      "2\n",
      "3\n",
      "4\n",
      "5\n",
      "6\n",
      "7\n",
      "8\n",
      "9\n"
     ]
    }
   ],
   "source": [
    "#b. Range(0,10,1)\n",
    "for i in range(0,10,1):\n",
    "    print(i)"
   ]
  },
  {
   "cell_type": "markdown",
   "id": "bb721bba-71c8-4da6-8c81-96a77560cdf4",
   "metadata": {},
   "source": [
    "---"
   ]
  },
  {
   "cell_type": "raw",
   "id": "889fa68f-48fe-48e6-b789-cc6af35d8e45",
   "metadata": {},
   "source": [
    "12. Write a short program that prints the numbers 1 to 10 using a for loop. Then write an equivalent program that prints the numbers 1 to 10 using a while loop.\n",
    "Solution:"
   ]
  },
  {
   "cell_type": "code",
   "execution_count": 44,
   "id": "e87c24f2-cf8a-43e9-849a-a8abaeae0714",
   "metadata": {},
   "outputs": [
    {
     "name": "stdout",
     "output_type": "stream",
     "text": [
      "1\n",
      "2\n",
      "3\n",
      "4\n",
      "5\n",
      "6\n",
      "7\n",
      "8\n",
      "9\n",
      "10\n"
     ]
    }
   ],
   "source": [
    "# For LOOP\n",
    "for i in range(1,10+1):\n",
    "    print(i)"
   ]
  },
  {
   "cell_type": "code",
   "execution_count": 52,
   "id": "cd3f2e1d-163d-4a55-a5cf-c8499409724c",
   "metadata": {},
   "outputs": [
    {
     "name": "stdout",
     "output_type": "stream",
     "text": [
      "1\n",
      "2\n",
      "3\n",
      "4\n",
      "5\n",
      "6\n",
      "7\n",
      "8\n",
      "9\n",
      "10\n"
     ]
    }
   ],
   "source": [
    "# WHILE LOOP\n",
    "i = 1\n",
    "while i<=10 :\n",
    "    print(i)\n",
    "    i = i+1"
   ]
  },
  {
   "cell_type": "markdown",
   "id": "364cc763-810d-49d5-9c59-78d6cd42bca9",
   "metadata": {},
   "source": [
    "---"
   ]
  },
  {
   "cell_type": "raw",
   "id": "81dd6e48-7704-4575-ab1f-304d23949cc3",
   "metadata": {},
   "source": [
    "13. If you had a function named bacon() inside a module named spam, how would you call it after importing spam?\n",
    "Solution"
   ]
  },
  {
   "cell_type": "code",
   "execution_count": null,
   "id": "9dd39f5a-6a7e-4af5-8f2e-8f22174aea98",
   "metadata": {},
   "outputs": [],
   "source": [
    "import spam\n",
    "\n",
    "spam.bacon()"
   ]
  },
  {
   "cell_type": "markdown",
   "id": "e29b875a-3cb3-4190-9a74-d4ab9bd5d61c",
   "metadata": {},
   "source": [
    "---\n",
    "---"
   ]
  }
 ],
 "metadata": {
  "kernelspec": {
   "display_name": "Python 3 (ipykernel)",
   "language": "python",
   "name": "python3"
  },
  "language_info": {
   "codemirror_mode": {
    "name": "ipython",
    "version": 3
   },
   "file_extension": ".py",
   "mimetype": "text/x-python",
   "name": "python",
   "nbconvert_exporter": "python",
   "pygments_lexer": "ipython3",
   "version": "3.10.6"
  }
 },
 "nbformat": 4,
 "nbformat_minor": 5
}
