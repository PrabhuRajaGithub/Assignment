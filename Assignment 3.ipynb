{
 "cells": [
  {
   "cell_type": "markdown",
   "id": "00db9764-003c-4654-a1d6-f949e27ad37f",
   "metadata": {},
   "source": [
    "Assignemnt 3\n",
    "---"
   ]
  },
  {
   "cell_type": "raw",
   "id": "86eaef95-fe22-4b86-af23-8c5183417e02",
   "metadata": {},
   "source": [
    "1. Why are functions advantageous to have in your programs?\n",
    "Solution:\n",
    "Functions provide advantages such as code reuse, readability, debugging and flexiblity. They allow for efficient and manintainable programming by breaking down tasks, promoting organization, and enabling easy reuse of code"
   ]
  },
  {
   "cell_type": "markdown",
   "id": "786e384d-f732-4bf7-83eb-a16431e6c904",
   "metadata": {},
   "source": [
    "---"
   ]
  },
  {
   "cell_type": "raw",
   "id": "8543b532-da82-4e11-86a3-f77515bdefdc",
   "metadata": {},
   "source": [
    "2. When does the code in a function run: when it's specified or when it's called?\n",
    "Solution:\n",
    "A function's code executes when it is called, not when it is specified in the function definition. Calling a function allows the code within the function to be executed, and control returns to the point of the function call after the execution is complete."
   ]
  },
  {
   "cell_type": "markdown",
   "id": "94876462-0423-4e23-b613-fc2f0a8ebe5a",
   "metadata": {},
   "source": [
    "---"
   ]
  },
  {
   "cell_type": "raw",
   "id": "3bced65d-86db-43c7-924a-fbc10f2ef4e1",
   "metadata": {},
   "source": [
    "3. What statement creates a function?\n",
    "Solution:\n",
    "\"def\" statement in python creates a function. It is followed by the function name, optional parameters in parantheses, and a colon.\n",
    "EG: below eg for reference"
   ]
  },
  {
   "cell_type": "code",
   "execution_count": 1,
   "id": "1b463076-ade5-4129-b924-064f41051e89",
   "metadata": {},
   "outputs": [
    {
     "data": {
      "text/plain": [
       "21"
      ]
     },
     "execution_count": 1,
     "metadata": {},
     "output_type": "execute_result"
    }
   ],
   "source": [
    "def add(a,b):\n",
    "    return a+b\n",
    "add(10,11)"
   ]
  },
  {
   "cell_type": "markdown",
   "id": "e67be717-21fb-4a77-b6e3-43f188843652",
   "metadata": {},
   "source": [
    "---"
   ]
  },
  {
   "cell_type": "raw",
   "id": "03977168-05bc-45f0-9fc3-e43c2757e818",
   "metadata": {},
   "source": [
    "4. What is the difference between a function and a function call?\n",
    "Solution:\n",
    "A function is a block of code that, when called, performs a certain task, whereas a function call is the actual execution of a function in the program. The task is defined by the function, and the function call executes it."
   ]
  },
  {
   "cell_type": "markdown",
   "id": "51d06bbd-5dec-4d0e-b78e-9deb4f0f9fcd",
   "metadata": {},
   "source": [
    "---"
   ]
  },
  {
   "cell_type": "raw",
   "id": "6f7687df-5dff-4efc-b153-e71b80ab3a20",
   "metadata": {},
   "source": [
    "5. How many global scopes are there in a Python program? How many local scopes?\n",
    "Solution:\n",
    "A Python program has a single global scope that is accessible from anywhere in the program. The number of local scopes varies according to the functions and code blocks, with each function or code block producing its own temporary local scope during execution."
   ]
  },
  {
   "cell_type": "markdown",
   "id": "94223014-ec71-42a7-a6a9-b9da64b42f42",
   "metadata": {},
   "source": [
    "---"
   ]
  },
  {
   "cell_type": "raw",
   "id": "1b1a6d60-4384-4668-b16d-31ff669ae260",
   "metadata": {},
   "source": [
    "6. What happens to variables in a local scope when the function call returns?\n",
    "Solution:\n",
    "When a function call returns in Python, the local scope associated with that function is deleted. Variables defined in the local scope are no longer defined and their values are lost. Global variables and variables in enclosing scopes are unaffected and will remain when the function call returns."
   ]
  },
  {
   "cell_type": "markdown",
   "id": "b2252a4c-6710-49e2-a6da-ff618a756da1",
   "metadata": {},
   "source": [
    "---"
   ]
  },
  {
   "cell_type": "raw",
   "id": "3e77f842-fefb-47af-b6de-cdfe6c8584a9",
   "metadata": {},
   "source": [
    "7. What is the concept of a return value? Is it possible to have a return value in an expression?\n",
    "Solution:\n",
    "The value that a function can return to the caller is referred to as the return value. It enables functions to return results or data. Yes, a return value can be included in an expression and utilised as part of an expression for arithmetic operations, assignments, or comparisons. However, not all functions have a return value, thus the return value is None in such circumstances."
   ]
  },
  {
   "cell_type": "markdown",
   "id": "ed6c577b-8dc6-4b0d-aaa7-eaa9009b2f7a",
   "metadata": {},
   "source": [
    "---"
   ]
  },
  {
   "cell_type": "raw",
   "id": "ebae7a61-bdd4-49e6-9cab-31c1d544441a",
   "metadata": {},
   "source": [
    "8. If a function does not have a return statement, what is the return value of a call to that function?\n",
    "Solution:\n",
    "If a function does not have a return statement, the default return result of a call to that function is None. None denotes the absence of a value and signifies that the function produces no results or output."
   ]
  },
  {
   "cell_type": "code",
   "execution_count": 2,
   "id": "45056311-2883-431b-9103-11713fead04d",
   "metadata": {},
   "outputs": [
    {
     "ename": "SyntaxError",
     "evalue": "incomplete input (3835067448.py, line 1)",
     "output_type": "error",
     "traceback": [
      "\u001b[0;36m  Cell \u001b[0;32mIn [2], line 1\u001b[0;36m\u001b[0m\n\u001b[0;31m    def abc():\u001b[0m\n\u001b[0m              ^\u001b[0m\n\u001b[0;31mSyntaxError\u001b[0m\u001b[0;31m:\u001b[0m incomplete input\n"
     ]
    }
   ],
   "source": [
    "def abc():"
   ]
  },
  {
   "cell_type": "markdown",
   "id": "a5a0bfe9-42b8-428c-9245-8c3c56aa834e",
   "metadata": {},
   "source": [
    "---"
   ]
  },
  {
   "cell_type": "raw",
   "id": "b74e8dfe-979c-45d3-bb6e-39407f2d0e85",
   "metadata": {},
   "source": [
    "9. How do you make a function variable refer to the global variable?\n",
    "Solution:\n",
    "Use the global keyword inside the function to make a function variable refer to a global variable. This specifies that instead of generating a new local variable, the variable should refer to the global scope. Example:"
   ]
  },
  {
   "cell_type": "code",
   "execution_count": 9,
   "id": "fe6f937c-57ff-41f9-b4a8-7d02fa68e5bb",
   "metadata": {},
   "outputs": [
    {
     "name": "stdout",
     "output_type": "stream",
     "text": [
      "20\n"
     ]
    }
   ],
   "source": [
    "global_var = 10\n",
    "\n",
    "def my_function():\n",
    "    global global_var\n",
    "    global_var = 20\n",
    "\n",
    "my_function()\n",
    "print(global_var)\n"
   ]
  },
  {
   "cell_type": "markdown",
   "id": "1dadeece-461e-449d-8ae3-713768050eca",
   "metadata": {},
   "source": [
    "---"
   ]
  },
  {
   "cell_type": "raw",
   "id": "c0782c15-f682-4958-9478-b7230d39371d",
   "metadata": {},
   "source": [
    "10. What is the data type of None?\n",
    "Solution:\n",
    "The data type of None in Python is NoneType. It represents the absence of a value and is commonly used to indicate no meaningful result or output."
   ]
  },
  {
   "cell_type": "markdown",
   "id": "3753e6ae-d9e1-4fa7-874e-80e9075b7468",
   "metadata": {},
   "source": [
    "---"
   ]
  },
  {
   "cell_type": "raw",
   "id": "cfbde53c-94ec-44ff-8bec-c13f507af1fb",
   "metadata": {},
   "source": [
    "11. What does the sentence import areallyourpetsnamederic do?\n",
    "Solution:\n",
    "Although the Python import phrase \"import arellyourpetsnamederic\" is syntactically correct, it does not correspond to any preexisting module. It tries to load a module called \"areallyourpetsnamederic,\" but since there is no such module, it fails with an ImportError."
   ]
  },
  {
   "cell_type": "markdown",
   "id": "13275583-1d0a-4e05-9a8d-ba3453d301ab",
   "metadata": {},
   "source": [
    "---"
   ]
  },
  {
   "cell_type": "raw",
   "id": "a873d2ac-f26f-417d-8fb9-d409cc224478",
   "metadata": {},
   "source": [
    "12. If you had a bacon() feature in a spam module, what would you call it after importing spam?\n",
    "Solution:\n",
    "You can use the spam.bacon() syntax to invoke the \"bacon()\" feature after importing the \"spam\" module."
   ]
  },
  {
   "cell_type": "code",
   "execution_count": null,
   "id": "2d46cc43-53b5-494c-bada-f59f8cc99095",
   "metadata": {},
   "outputs": [],
   "source": [
    "import spam\n",
    "\n",
    "spam.bacon()"
   ]
  },
  {
   "cell_type": "markdown",
   "id": "cf5e6dc8-ccec-4aa7-b377-e5fd94d14ce2",
   "metadata": {},
   "source": [
    "---"
   ]
  },
  {
   "cell_type": "raw",
   "id": "3e8c5ded-72d9-4942-9b4b-6874d9cf4327",
   "metadata": {},
   "source": [
    "13. What can you do to save a programme from crashing if it encounters an error?\n",
    "Solution:\n",
    "Use exception handling with try-except blocks to prevent programmes from crashing when they meet errors. To gracefully handle exceptions without programme termination, enclose potentially troublesome code in the try block and describe error handling in the associated except block."
   ]
  },
  {
   "cell_type": "code",
   "execution_count": 10,
   "id": "cc8f152a-1d4b-4797-831d-b01b93dac0be",
   "metadata": {},
   "outputs": [
    {
     "name": "stdout",
     "output_type": "stream",
     "text": [
      "variable x is not defined\n"
     ]
    }
   ],
   "source": [
    "try:\n",
    "    print (x)\n",
    "except:\n",
    "    print(\"variable x is not defined\")"
   ]
  },
  {
   "cell_type": "markdown",
   "id": "e44a7f1e-9815-49d6-a33c-275f72d14f7e",
   "metadata": {},
   "source": [
    "---"
   ]
  },
  {
   "cell_type": "raw",
   "id": "7394838a-0c66-439e-970d-95541c21b2a4",
   "metadata": {},
   "source": [
    "14. What is the purpose of the try clause? What is the purpose of the except clause?\n",
    "Solution:\n",
    "Try clauses are used to contain code that might cause an exception, while except clauses specify the code that would handle the exception if one arises. Together, they make it possible for Python programmes to handle errors effectively."
   ]
  },
  {
   "cell_type": "markdown",
   "id": "9725216e-c687-470a-b06f-81b0f5069918",
   "metadata": {},
   "source": [
    "---\n",
    "---"
   ]
  }
 ],
 "metadata": {
  "kernelspec": {
   "display_name": "Python 3 (ipykernel)",
   "language": "python",
   "name": "python3"
  },
  "language_info": {
   "codemirror_mode": {
    "name": "ipython",
    "version": 3
   },
   "file_extension": ".py",
   "mimetype": "text/x-python",
   "name": "python",
   "nbconvert_exporter": "python",
   "pygments_lexer": "ipython3",
   "version": "3.10.6"
  }
 },
 "nbformat": 4,
 "nbformat_minor": 5
}
